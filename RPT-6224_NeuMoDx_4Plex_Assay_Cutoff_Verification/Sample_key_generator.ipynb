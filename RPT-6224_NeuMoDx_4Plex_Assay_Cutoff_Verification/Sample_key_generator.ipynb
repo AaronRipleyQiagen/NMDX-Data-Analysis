{
 "cells": [
  {
   "cell_type": "code",
   "execution_count": 52,
   "metadata": {},
   "outputs": [],
   "source": [
    "#Step 1: Import modules and connect to the database\n",
    "import pandas as pd\n",
    "import numpy as np\n",
    "import pyodbc\n",
    "import warnings\n",
    "warnings.filterwarnings('ignore')\n",
    "\n",
    "from IPython.display import HTML\n",
    "config = dict(server='ABR-RIPLEYA-D1',\n",
    "    port=      1433,\n",
    "    database=  'neumodxRawDataDB',\n",
    "    )\n",
    "\n",
    "conn_str = ('SERVER={server};' +\n",
    "            'Database={database};' +\n",
    "            'TRUSTED_CONNECTION=yes')\n",
    "\n",
    "conn = pyodbc.connect(\n",
    "    r'DRIVER={SQL Server};' +\n",
    "    conn_str.format(**config)\n",
    "    )"
   ]
  },
  {
   "cell_type": "code",
   "execution_count": 53,
   "metadata": {},
   "outputs": [],
   "source": [
    "#Step 2: Write or generate a query for data acquisition\n",
    "##Function to Get Channel Data (i.e. Green Raw, Red Normalized etc.)\n",
    "environment='4PlexV2_RPT-6224'\n",
    "\n",
    "def getSQLData_Channel(color, environment):\n",
    "    query = (\"Select * from [dbo].[channel_summary]\"+\n",
    "             \"where [Channel] = '\"+color+\"' AND [Environment] like '%\"+environment+\"%'\")\n",
    "    print(\"Query:\", query)\n",
    "    df = pd.read_sql(query, conn)\n",
    "    return df\n",
    "\n"
   ]
  },
  {
   "cell_type": "code",
   "execution_count": 72,
   "metadata": {},
   "outputs": [
    {
     "name": "stdout",
     "output_type": "stream",
     "text": [
      "Query: Select * from [dbo].[channel_summary]where [Channel] = 'Yellow' AND [Environment] like '%4PlexV2_RPT-6224%'\n",
      "Query: Select * from [dbo].[channel_summary]where [Channel] = 'Green' AND [Environment] like '%4PlexV2_RPT-6224%'\n",
      "Query: Select * from [dbo].[channel_summary]where [Channel] = 'Red' AND [Environment] like '%4PlexV2_RPT-6224%'\n",
      "Query: Select * from [dbo].[channel_summary]where [Channel] = 'Orange' AND [Environment] like '%4PlexV2_RPT-6224%'\n",
      "Query: Select * from [dbo].[channel_summary]where [Channel] = 'Far_Red' AND [Environment] like '%4PlexV2_RPT-6224%'\n"
     ]
    }
   ],
   "source": [
    "#Step 3: Perform the query on the database and return a pandas dataframe into a channel dictionary, format dataframes\n",
    "channel_list = ['Yellow','Green','Red','Orange','Far_Red']\n",
    "\n",
    "channel_dict={}\n",
    "for channel in channel_list:\n",
    "     newDF = getSQLData_Channel(channel,'4PlexV2_RPT-6224')\n",
    "     newDF['Sample ID Prefix'] = newDF['Sample ID'].str.replace('\\d+','') \n",
    "     newDF['Start Date'] = newDF['Start Time'].dt.date\n",
    "     newDF['Protocol'] = newDF['File Source'].str[52:60]\n",
    "     newDF=newDF.loc[:,['File Source',\n",
    "                        'Protocol',\n",
    "                        'Target Setting Specimen Type',\n",
    "                        'Sample ID',\n",
    "                        'Sample ID Prefix',\n",
    "                        'Start Date',\n",
    "                        'Test Guid',\n",
    "                        'Replicate Result',\n",
    "                        'Assay Name',\n",
    "                        'Assay Version',\n",
    "                        'Localized Result',\n",
    "                        'Ct',\n",
    "                        'End Point Fluorescence',\n",
    "                        'EPR',\n",
    "                        'Max Peak Height',\n",
    "                        'Flags',\n",
    "                        'Baseline Slope']]\n",
    "     channel_dict[channel] = newDF\n",
    "\n",
    "     index_list = ['File Source',\n",
    "                    'Protocol',\n",
    "                    'Target Setting Specimen Type',\n",
    "                    'Sample ID',\n",
    "                    'Sample ID Prefix',\n",
    "                    'Start Date',\n",
    "                    'Test Guid',\n",
    "                    'Replicate Result',\n",
    "                    'Assay Name',\n",
    "                    'Assay Version']\n",
    "     channel_dict[channel].set_index(index_list, inplace=True)\n",
    "\n",
    "\n",
    "     new_column_names = []\n",
    "     for col in channel_dict[channel].columns:\n",
    "          new_column_names.append(channel+' Target '+col)\n",
    "\n",
    "     channel_dict[channel].columns = new_column_names"
   ]
  },
  {
   "cell_type": "code",
   "execution_count": 76,
   "metadata": {},
   "outputs": [],
   "source": [
    "#Step 4: Merge existing dataframes \n",
    "mergeDB = pd.concat([channel_dict[channel] for channel in channel_dict],axis=1)\n",
    "mergeDB.reset_index(inplace=True)"
   ]
  },
  {
   "cell_type": "code",
   "execution_count": 78,
   "metadata": {},
   "outputs": [],
   "source": [
    "#Step 5: Add expected results columns\n",
    "mergeDB\n",
    "for channel in channel_list:\n",
    "    mergeDB[channel+' Target Expected Results']= np.nan"
   ]
  },
  {
   "cell_type": "code",
   "execution_count": 80,
   "metadata": {},
   "outputs": [],
   "source": [
    "#Step 6: Export final dataframe to CSV format\n",
    "mergeDB.to_csv('Sample_Key_4-plex.csv')"
   ]
  }
 ],
 "metadata": {
  "interpreter": {
   "hash": "87e0d9f33a41a6b6e4c18ff6ce2a704c7f15834d076d5ea4d57fd6d5a7d5c4f6"
  },
  "kernelspec": {
   "display_name": "Python 3.9.7 ('base')",
   "language": "python",
   "name": "python3"
  },
  "language_info": {
   "codemirror_mode": {
    "name": "ipython",
    "version": 3
   },
   "file_extension": ".py",
   "mimetype": "text/x-python",
   "name": "python",
   "nbconvert_exporter": "python",
   "pygments_lexer": "ipython3",
   "version": "3.9.7"
  },
  "orig_nbformat": 4
 },
 "nbformat": 4,
 "nbformat_minor": 2
}
