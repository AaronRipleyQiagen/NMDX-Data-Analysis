{
 "cells": [
  {
   "cell_type": "code",
   "execution_count": 238,
   "metadata": {},
   "outputs": [],
   "source": [
    "import pandas as pd\n",
    "import numpy as np\n",
    "import seaborn as sns\n",
    "import matplotlib.pyplot as plt\n",
    "import pyodbc\n",
    "import warnings\n",
    "from matplotlib.lines import Line2D\n",
    "import scipy.stats\n",
    "import matplotlib.ticker as mtick\n",
    "warnings.filterwarnings('ignore')\n",
    "#pd.set_option(\"display.max_columns\", None)\n",
    "from IPython.display import HTML"
   ]
  },
  {
   "cell_type": "code",
   "execution_count": 239,
   "metadata": {},
   "outputs": [],
   "source": [
    "df = pd.read_csv(\"RPT-8430_CompiledData_Final.csv\")"
   ]
  },
  {
   "cell_type": "code",
   "execution_count": 240,
   "metadata": {},
   "outputs": [],
   "source": [
    "# pd.set_option(\"display.max_columns\", None)\n",
    "# df.head(5)"
   ]
  },
  {
   "cell_type": "code",
   "execution_count": 241,
   "metadata": {},
   "outputs": [],
   "source": [
    "dfm = df.copy()"
   ]
  },
  {
   "cell_type": "code",
   "execution_count": 242,
   "metadata": {},
   "outputs": [
    {
     "name": "stdout",
     "output_type": "stream",
     "text": [
      "Total_presumed_negatives\n",
      "1572\n",
      "Number_of_False_Positives\n",
      "33\n",
      "False_Positives_Rate\n",
      "2.10%\n"
     ]
    }
   ],
   "source": [
    "dfm = dfm[dfm.ProcessingStep == \"Raw\"]\n",
    "dfm = dfm[dfm.Channel == \"Yellow_530_555\"]\n",
    "\n",
    "\n",
    "dfm = dfm[(dfm.SampleID.str[:6] == \"HPVneg\") |\n",
    "          (dfm.SampleID.str[:5] == \"Bglob\") |\n",
    "          (dfm.SampleID.str[:3] == \"Neg\") |\n",
    "          (dfm.SampleID.str[:3] == \"ZAS\") |\n",
    "          (dfm.SampleID.str[:2] == \"NC\") |\n",
    "          (dfm.SampleID.str[:5] == \"HPV16\") |\n",
    "          (dfm.SampleID.str[:5] == \"SiHav\") |\n",
    "          (dfm.SampleID.str[:5] == \"HeLav\") |\n",
    "          (dfm.SampleID.str[:4] == \"A549\") |\n",
    "          (dfm.SampleID.str[:4] == \"16hv\") |\n",
    "          (dfm.SampleID.str[:4] == \"Sure\") |\n",
    "          (dfm.SampleID.str[:5] == \"37Neg\") |\n",
    "          (dfm.SampleID.str[:5] == \"HPV18\") ]\n",
    "\n",
    "total = dfm.shape[0]\n",
    "\n",
    "\n",
    "dfm.filter(items= [\"SampleUId\",\"SampleID\",\"ResultCode\",\n",
    "                    \"AssayVersion\",\"Channel\",\"LocalizedResult\",\n",
    "                    \"Ct\",\"EndPointFluorescence\",\"MaxPeakHeight\",\"EPR\",\n",
    "                    'N500SerialNumber','NeuMoDxSoftwareVersion','PcrModuleSerial'])\n",
    "print('Total_presumed_negatives')\n",
    "print(dfm.shape[0])\n",
    "#print(\"{0:.2%}\".format(dfm.shape[0]/total))\n",
    "\n",
    "\n",
    "dffp = dfm[dfm.LocalizedResult == \"TargetAmplified\"]\n",
    "print('Number_of_False_Positives')\n",
    "print(dffp.shape[0])\n",
    "print('False_Positives_Rate')\n",
    "print(\"{0:.2%}\".format(dffp.shape[0]/total))\n",
    "dfm = df.copy()"
   ]
  },
  {
   "cell_type": "code",
   "execution_count": 243,
   "metadata": {},
   "outputs": [],
   "source": [
    "dfc = dfm.copy()"
   ]
  },
  {
   "cell_type": "code",
   "execution_count": 244,
   "metadata": {},
   "outputs": [],
   "source": [
    "dfc = dfc[dfc.ProcessingStep == \"Raw\"]\n",
    "dfc = dfc[dfc.Channel == \"Yellow_530_555\"]\n",
    "dfc = dfc[(dfc.SampleID.str[:6] == \"HPVneg\") |\n",
    "          (dfc.SampleID.str[:5] == \"Bglob\") |\n",
    "          (dfc.SampleID.str[:3] == \"Neg\") |\n",
    "          (dfc.SampleID.str[:3] == \"ZAS\") |\n",
    "          (dfc.SampleID.str[:2] == \"NC\") |\n",
    "          (dfc.SampleID.str[:5] == \"HPV16\") |\n",
    "          (dfc.SampleID.str[:5] == \"SiHav\") |\n",
    "          (dfc.SampleID.str[:5] == \"HeLav\") |\n",
    "          (dfc.SampleID.str[:4] == \"16hv\") |\n",
    "          (dfc.SampleID.str[:4] == \"Sure\") |\n",
    "          (dfc.SampleID.str[:5] == \"37Neg\") |\n",
    "          (dfc.SampleID.str[:4] == \"A549\") |\n",
    "          (dfc.SampleID.str[:5] == \"HPV18\") ]\n",
    "conditions = [\n",
    "    (dfc['BaselineFirstCycle'] == 10.0) & (dfc['BaselineLastCycle'] == 16.0),\n",
    "    (dfc['BaselineFirstCycle'] == 10.0) & (dfc['BaselineLastCycle'] == 10.0),\n",
    "    (dfc['BaselineFirstCycle'] != 10.0) & (dfc['MaxPeakHeight'] > 0),\n",
    "    (dfc['BaselineFirstCycle'] != 10.0)\n",
    "    ]\n",
    "\n",
    "# create a list of the values we want to assign for each condition\n",
    "values = ['Fixed_Baseline_Sample', 'Single_Point_Normalized_Sample', 'Weak_Amplification_Samples', 'Unassigned']\n",
    "\n",
    "# create a new column and use np.select to assign values to it using our lists as arguments\n",
    "dfc['Condition'] = np.select(conditions, values)\n",
    "\n",
    "dfc = dfc.filter(items= [\"SampleUId\",\"Condition\",'BaselineFirstCycle','BaselineLastCycle',\"SampleID\",\"ResultCode\",\n",
    "                    \"AssayVersion\",\"Channel\",\"LocalizedResult\",\n",
    "                    \"Ct\",\"EndPointFluorescence\",\"MaxPeakHeight\",\"EPR\",\n",
    "                    'N500SerialNumber','NeuMoDxSoftwareVersion','PcrModuleSerial'])\n",
    "\n",
    "# display updated DataFrame\n",
    "\n"
   ]
  },
  {
   "cell_type": "code",
   "execution_count": 245,
   "metadata": {},
   "outputs": [
    {
     "name": "stdout",
     "output_type": "stream",
     "text": [
      "Total_Weak_Amplification_Samples\n",
      "93\n",
      "Number_of_False_Positives_in_Weak_Amplification_Samples\n",
      "32\n",
      "False_Positives_Rate_in_Weak_Amplification_Samples\n",
      "34.41%\n"
     ]
    }
   ],
   "source": [
    "dfw = dfc[dfc.Condition == 'Weak_Amplification_Samples']\n",
    "dfw = dfw.filter(items= [\"SampleUId\",\"Condition\",'BaselineFirstCycle','BaselineLastCycle',\"SampleID\",\"ResultCode\",\n",
    "                    \"AssayVersion\",\"Channel\",\"LocalizedResult\",\n",
    "                    \"Ct\",\"EndPointFluorescence\",\"MaxPeakHeight\",\"EPR\",\n",
    "                    'N500SerialNumber','NeuMoDxSoftwareVersion','PcrModuleSerial'])\n",
    "print('Total_Weak_Amplification_Samples')\n",
    "print(dfw.shape[0])\n",
    "\n",
    "dfwfp = dfw[dfw.LocalizedResult == \"TargetAmplified\"]\n",
    "print('Number_of_False_Positives_in_Weak_Amplification_Samples')\n",
    "print(dfwfp.shape[0])\n",
    "print('False_Positives_Rate_in_Weak_Amplification_Samples')\n",
    "print(\"{0:.2%}\".format(dfwfp.shape[0]/dfw.shape[0]))"
   ]
  },
  {
   "cell_type": "code",
   "execution_count": 246,
   "metadata": {},
   "outputs": [
    {
     "name": "stdout",
     "output_type": "stream",
     "text": [
      "Total_Fixed_Baseline_Samples\n",
      "29\n",
      "Number_of_False_Positives_in_Fixed_Baseline_Samples\n",
      "0\n",
      "False_Positives_Rate_in_Fixed_Baseline_Samples\n",
      "0.00%\n"
     ]
    }
   ],
   "source": [
    "dff = dfc[dfc.Condition == 'Fixed_Baseline_Sample']\n",
    "dff = dff.filter(items= [\"SampleUId\",\"Condition\",'BaselineFirstCycle','BaselineLastCycle',\"SampleID\",\"ResultCode\",\n",
    "                    \"AssayVersion\",\"Channel\",\"LocalizedResult\",\n",
    "                    \"Ct\",\"EndPointFluorescence\",\"MaxPeakHeight\",\"EPR\",\n",
    "                    'N500SerialNumber','NeuMoDxSoftwareVersion','PcrModuleSerial'])\n",
    "\n",
    "\n",
    "print('Total_Fixed_Baseline_Samples')\n",
    "print(dff.shape[0])\n",
    "dfffp = dff[dff.LocalizedResult == \"TargetAmplified\"]\n",
    "print('Number_of_False_Positives_in_Fixed_Baseline_Samples')\n",
    "print(dfffp.shape[0])\n",
    "print('False_Positives_Rate_in_Fixed_Baseline_Samples')\n",
    "print(\"{0:.2%}\".format(dfffp.shape[0]/dff.shape[0]))\n"
   ]
  },
  {
   "cell_type": "code",
   "execution_count": 247,
   "metadata": {},
   "outputs": [
    {
     "name": "stdout",
     "output_type": "stream",
     "text": [
      "Total_Single_Point_Normalized_Samples\n",
      "8\n",
      "Number_of_False_Positives_in_Single_Point_Normalized_Samples\n",
      "1\n",
      "False_Positives_Rate_in_Single_Point_Normalized_Samples\n",
      "12.50%\n"
     ]
    }
   ],
   "source": [
    "dfs = dfc[dfc.Condition == 'Single_Point_Normalized_Sample']\n",
    "dfs = dfs.filter(items= [\"SampleUId\",\"Condition\",'BaselineFirstCycle','BaselineLastCycle',\"SampleID\",\"ResultCode\",\n",
    "                    \"AssayVersion\",\"Channel\",\"LocalizedResult\",\n",
    "                    \"Ct\",\"EndPointFluorescence\",\"MaxPeakHeight\",\"EPR\",\n",
    "                    'N500SerialNumber','NeuMoDxSoftwareVersion','PcrModuleSerial'])\n",
    "print('Total_Single_Point_Normalized_Samples')\n",
    "print(dfs.shape[0])\n",
    "dfsfp = dfs[dfs.LocalizedResult == \"TargetAmplified\"]\n",
    "print('Number_of_False_Positives_in_Single_Point_Normalized_Samples')\n",
    "print(dfsfp.shape[0])\n",
    "print('False_Positives_Rate_in_Single_Point_Normalized_Samples')\n",
    "print(\"{0:.2%}\".format(dfsfp.shape[0]/dfs.shape[0]))"
   ]
  },
  {
   "cell_type": "code",
   "execution_count": 248,
   "metadata": {},
   "outputs": [
    {
     "name": "stdout",
     "output_type": "stream",
     "text": [
      "Total_Unassigned\n",
      "1442\n",
      "Number_of_False_Positives_in_Unassigned\n",
      "0\n",
      "False_Positives_Rate_in_Unassigned\n",
      "0.00%\n"
     ]
    }
   ],
   "source": [
    "dfa = dfc[dfc.Condition == 'Unassigned']\n",
    "dfa = dfa.filter(items= [\"SampleUId\",\"Condition\",'BaselineFirstCycle','BaselineLastCycle',\"SampleID\",\"ResultCode\",\n",
    "                    \"AssayVersion\",\"Channel\",\"LocalizedResult\",\n",
    "                    \"Ct\",\"EndPointFluorescence\",\"MaxPeakHeight\",\"EPR\",\n",
    "                    'N500SerialNumber','NeuMoDxSoftwareVersion','PcrModuleSerial'])\n",
    "print('Total_Unassigned')\n",
    "print(dfa.shape[0])\n",
    "dfafp = dfa[dfa.LocalizedResult == \"TargetAmplified\"]\n",
    "print('Number_of_False_Positives_in_Unassigned')\n",
    "print(dfafp.shape[0])\n",
    "print('False_Positives_Rate_in_Unassigned')\n",
    "print(\"{0:.2%}\".format(dfafp.shape[0]/dfa.shape[0]))"
   ]
  },
  {
   "cell_type": "code",
   "execution_count": 249,
   "metadata": {},
   "outputs": [
    {
     "data": {
      "text/html": [
       "<div>\n",
       "<style scoped>\n",
       "    .dataframe tbody tr th:only-of-type {\n",
       "        vertical-align: middle;\n",
       "    }\n",
       "\n",
       "    .dataframe tbody tr th {\n",
       "        vertical-align: top;\n",
       "    }\n",
       "\n",
       "    .dataframe thead th {\n",
       "        text-align: right;\n",
       "    }\n",
       "</style>\n",
       "<table border=\"1\" class=\"dataframe\">\n",
       "  <thead>\n",
       "    <tr style=\"text-align: right;\">\n",
       "      <th></th>\n",
       "      <th>Fixed_Baseline_Sample</th>\n",
       "      <th>Single_Point_Normalized_Sample</th>\n",
       "      <th>Weak_Amplification_Samples</th>\n",
       "      <th>Unassigned</th>\n",
       "      <th>Total</th>\n",
       "    </tr>\n",
       "  </thead>\n",
       "  <tbody>\n",
       "    <tr>\n",
       "      <th>Number_of_False_Positvie</th>\n",
       "      <td>0</td>\n",
       "      <td>1</td>\n",
       "      <td>32</td>\n",
       "      <td>0</td>\n",
       "      <td>2.10%</td>\n",
       "    </tr>\n",
       "    <tr>\n",
       "      <th>Rate_of_False_Positvie</th>\n",
       "      <td>0.00%</td>\n",
       "      <td>12.50%</td>\n",
       "      <td>34.41%</td>\n",
       "      <td>0.00%</td>\n",
       "      <td>33</td>\n",
       "    </tr>\n",
       "    <tr>\n",
       "      <th>Total</th>\n",
       "      <td>29</td>\n",
       "      <td>8</td>\n",
       "      <td>93</td>\n",
       "      <td>1442</td>\n",
       "      <td>1572</td>\n",
       "    </tr>\n",
       "  </tbody>\n",
       "</table>\n",
       "</div>"
      ],
      "text/plain": [
       "                         Fixed_Baseline_Sample Single_Point_Normalized_Sample  \\\n",
       "Number_of_False_Positvie                     0                              1   \n",
       "Rate_of_False_Positvie                   0.00%                         12.50%   \n",
       "Total                                       29                              8   \n",
       "\n",
       "                         Weak_Amplification_Samples Unassigned  Total  \n",
       "Number_of_False_Positvie                         32          0  2.10%  \n",
       "Rate_of_False_Positvie                       34.41%      0.00%     33  \n",
       "Total                                            93       1442   1572  "
      ]
     },
     "execution_count": 249,
     "metadata": {},
     "output_type": "execute_result"
    }
   ],
   "source": [
    "\n",
    "fp_summary = pd.DataFrame({'Fixed_Baseline_Sample': [dfffp.shape[0], \"{0:.2%}\".format(dfffp.shape[0]/dff.shape[0]), dff.shape[0]], \n",
    "                           'Single_Point_Normalized_Sample': [dfsfp.shape[0], \"{0:.2%}\".format(dfsfp.shape[0]/dfs.shape[0]), dfs.shape[0]],\n",
    "                           'Weak_Amplification_Samples': [dfwfp.shape[0], \"{0:.2%}\".format(dfwfp.shape[0]/dfw.shape[0]), dfw.shape[0]],\n",
    "                           'Unassigned': [dfafp.shape[0], \"{0:.2%}\".format(dfafp.shape[0]/dfa.shape[0]), dfa.shape[0]],\n",
    "                           'Total': [\"{0:.2%}\".format(dffp.shape[0]/total), dffp.shape[0], total]},\n",
    "                            index=['Number_of_False_Positvie', 'Rate_of_False_Positvie', 'Total'])\n",
    "\n",
    "\n",
    "\n",
    "\n",
    "fp_summary"
   ]
  },
  {
   "cell_type": "code",
   "execution_count": null,
   "metadata": {},
   "outputs": [],
   "source": []
  }
 ],
 "metadata": {
  "interpreter": {
   "hash": "c2250a02007fc75039d33c80f99bf100903aef1c8b11d0280c2ae51e6f3b194d"
  },
  "kernelspec": {
   "display_name": "Python 3.8.13 ('base')",
   "language": "python",
   "name": "python3"
  },
  "language_info": {
   "codemirror_mode": {
    "name": "ipython",
    "version": 3
   },
   "file_extension": ".py",
   "mimetype": "text/x-python",
   "name": "python",
   "nbconvert_exporter": "python",
   "pygments_lexer": "ipython3",
   "version": "3.8.13"
  },
  "orig_nbformat": 4
 },
 "nbformat": 4,
 "nbformat_minor": 2
}
