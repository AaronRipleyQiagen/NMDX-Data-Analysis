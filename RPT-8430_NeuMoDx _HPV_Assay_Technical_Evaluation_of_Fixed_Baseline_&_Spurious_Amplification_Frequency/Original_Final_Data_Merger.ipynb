{
 "cells": [
  {
   "cell_type": "code",
   "execution_count": null,
   "metadata": {},
   "outputs": [],
   "source": [
    "#Step 1: Import modules and connect to the database\n",
    "import pandas as pd\n",
    "import numpy as np\n",
    "import pyodbc\n",
    "import warnings\n",
    "warnings.filterwarnings('ignore')\n",
    "\n",
    "from IPython.display import HTML\n",
    "config = dict(server='ABR-RIPLEYA-D1',\n",
    "    port=      1433,\n",
    "    database=  'neumodxRawDataDB',\n",
    "    )\n",
    "\n",
    "conn_str = ('SERVER={server};' +\n",
    "            'Database={database};' +\n",
    "            'TRUSTED_CONNECTION=yes')\n",
    "\n",
    "conn = pyodbc.connect(\n",
    "    r'DRIVER={SQL Server};' +\n",
    "    conn_str.format(**config)\n",
    "    )"
   ]
  },
  {
   "cell_type": "code",
   "execution_count": null,
   "metadata": {},
   "outputs": [],
   "source": [
    "##Step 2:  Load Consolidated Data from Gen 1.5 DB \n",
    "\n",
    "\n",
    "environment='HPV_RPT-8430_Original_Data_3'\n",
    "\n",
    "def getSQLData_summary_coc(environment):\n",
    "    query = (\"Select * from [dbo].[summary_coc]\"+\n",
    "             \" where  [Environment] like '%\"+environment+\"%'\")\n",
    "    print(\"Query:\", query)\n",
    "    df = pd.read_sql(query, conn)\n",
    "    print(\"Length of Raw Data Frame: \"+ str(len(df)))\n",
    "    \n",
    "    df = df.loc[~df['N500 Serial Number'].isnull()]\n",
    "    print(df['N500 Serial Number'].unique())\n",
    "    df.drop_duplicates(subset=['Sample ID', 'Start Date/Time'],inplace=True)\n",
    "    print(\"Length of Filtered Data Frame: \"+ str(len(df)))\n",
    "    return df\n",
    "\n",
    "\n",
    "\n",
    "\n",
    "OriginalData = getSQLData_summary_coc(environment)\n"
   ]
  },
  {
   "cell_type": "code",
   "execution_count": null,
   "metadata": {},
   "outputs": [],
   "source": [
    "##Step 3:  Change Connection to NIMS (Gen 2) Database\n",
    "from IPython.display import HTML\n",
    "config = dict(server='ABR-RIPLEYA-L1',\n",
    "    port=      1433,\n",
    "    database=  'NIMS_New',\n",
    "    )\n",
    "\n",
    "conn_str = ('SERVER={server};' +\n",
    "            'Database={database};' +\n",
    "            'TRUSTED_CONNECTION=yes')\n",
    "\n",
    "conn = pyodbc.connect(\n",
    "    r'DRIVER={SQL Server};' +\n",
    "    conn_str.format(**config)\n",
    "    )"
   ]
  },
  {
   "cell_type": "code",
   "execution_count": null,
   "metadata": {},
   "outputs": [],
   "source": [
    "##Step 4: Get Final Data (1.9.2.6 Data processed with ADF 4.2.1) \n",
    "\n",
    "def get_NIMS_ChainOfCustody(trialid):\n",
    "    query = \"SELECT SampleTrials.SampleUId, Samples.[Sample ID], ChainOfCustodySets.[Start Date/Time] FROM ChainOfCustodySets Left JOIN SampleTrials ON SampleTrials.SampleUId=ChainOfCustodySets.SampleUId AND SampleTrials.TrialId = '\"+trialid+\"' Left JOIN Samples ON ChainOfCustodySets.SampleUId = Samples.UId ;\"\n",
    "    df = pd.read_sql(query, conn)\n",
    "    return df\n",
    "\n",
    "NIMSData = get_NIMS_ChainOfCustody('BC4699B0-DCB0-4ED2-ABCB-17628D7DEC22')"
   ]
  },
  {
   "cell_type": "code",
   "execution_count": null,
   "metadata": {},
   "outputs": [],
   "source": [
    "##Step 5: Set Index to Shared Properties between Original & NIMS Data\n",
    "NIMSData.set_index(['Sample ID', \"Start Date/Time\"], inplace=True)\n",
    "OriginalData.set_index(['Sample ID', \"Start Date/Time\"], inplace=True)"
   ]
  },
  {
   "cell_type": "code",
   "execution_count": null,
   "metadata": {},
   "outputs": [],
   "source": [
    "##Step 6: Combined Original Data and NIMS Data so that ChainOfCustodyInfo has SampleUID Column\n",
    "ChainOfCustodyInfo = NIMSData.join(OriginalData)"
   ]
  },
  {
   "cell_type": "code",
   "execution_count": null,
   "metadata": {},
   "outputs": [],
   "source": [
    "consumables_list = ['Capture Plate Barcode',\n",
    " 'Buffer Barcode',\n",
    " 'Test Strip NeuMoDx Barcode',\n",
    " 'Pcr Cartridge Barcode',\n",
    " 'Release Reagent Barcode',\n",
    " 'Wash Reagent Barcode']\n",
    "\n",
    "for col in consumables_list:\n",
    "    ChainOfCustodyInfo[col.replace('Barcode', 'Lot')] = ChainOfCustodyInfo[col].str[18:24]\n",
    "    ChainOfCustodyInfo[col.replace('Barcode', 'Serial')] = ChainOfCustodyInfo[col].str[27:32]"
   ]
  },
  {
   "cell_type": "code",
   "execution_count": null,
   "metadata": {},
   "outputs": [],
   "source": [
    "[x for x in ChainOfCustodyInfo if \"Software\" in x]"
   ]
  },
  {
   "cell_type": "code",
   "execution_count": null,
   "metadata": {},
   "outputs": [],
   "source": [
    "ChainOfCustodyInfo = ChainOfCustodyInfo[['SampleUId', 'Test Guid', 'Software Version', 'Assay Version', 'N500 Serial Number', 'PCR Module Serial', 'Pcr Cartridge Lane', 'Pcr Cartridge Barcode']+\n",
    "                   [x.replace('Barcode', 'Lot') for x in consumables_list]+\n",
    "                   [x.replace('Barcode', 'Serial') for x in consumables_list]]"
   ]
  },
  {
   "cell_type": "code",
   "execution_count": null,
   "metadata": {},
   "outputs": [],
   "source": [
    "ChainOfCustodyInfo"
   ]
  },
  {
   "cell_type": "code",
   "execution_count": null,
   "metadata": {},
   "outputs": [],
   "source": [
    "##Step 7: Get Channel Data for Original Data\n",
    "\n",
    "config = dict(server='ABR-RIPLEYA-D1',\n",
    "    port=      1433,\n",
    "    database=  'neumodxRawDataDB',\n",
    "    )\n",
    "\n",
    "conn_str = ('SERVER={server};' +\n",
    "            'Database={database};' +\n",
    "            'TRUSTED_CONNECTION=yes')\n",
    "\n",
    "conn = pyodbc.connect(\n",
    "    r'DRIVER={SQL Server};' +\n",
    "    conn_str.format(**config)\n",
    "    )\n",
    "\n",
    "def getSQLData_channel_summary(environment, testGuids):\n",
    "    query = (\"Select * from [dbo].[channel_summary]\"+\n",
    "             \"where  [Environment] like '%\"+environment+\"%'\")\n",
    "    print(\"Query:\", query)\n",
    "    df = pd.read_sql(query, conn)\n",
    "    print(\"Length of Raw Data Frame: \"+ str(len(df)))\n",
    "    \n",
    "    df.set_index('Test Guid', inplace=True)\n",
    "    df = df.loc[testGuids,:]\n",
    "    df.reset_index(inplace=True)\n",
    "    df.drop_duplicates(['Test Guid', 'Channel'], inplace=True)\n",
    "    print(\"Length of Filtered Data Frame: \"+ str(len(df)))\n",
    "    df.set_index(['Test Guid', 'Channel'],inplace=True)\n",
    "    return df\n",
    "\n",
    "ChannelDataOriginal = getSQLData_channel_summary(environment, [x for x in ChainOfCustodyInfo['Test Guid'].unique().tolist() if pd.isnull(x)==False])\n",
    "ChannelDataOriginal['Localized Result'] = np.where(ChannelDataOriginal['Localized Result'].isnull(), ChannelDataOriginal['Target Result'], ChannelDataOriginal['Localized Result'])\n",
    "\n",
    "##Step 8: Subset ChannelDataOriginal to include only fields that are relavant to describing the amplification state.\n",
    "ChannelDataOriginal = ChannelDataOriginal[['Localized Result', 'Ct', 'End Point Fluorescence', 'Max Peak Height', 'EPR', 'Baseline First Cycle', 'Baseline Last Cycle', 'Baseline Slope']]\n"
   ]
  },
  {
   "cell_type": "code",
   "execution_count": null,
   "metadata": {},
   "outputs": [],
   "source": [
    "##Step 9: Merge together ChainOfCustodyInfo with ChannelDataOriginal for one common dataframe to combine with the Line Data.\n",
    "ChainOfCustodyInfo.dropna(subset=['Test Guid'],inplace=True)\n",
    "ChainOfCustodyInfo.drop_duplicates('Test Guid',inplace=True)\n",
    "OriginalDataAll = ChannelDataOriginal.join(ChainOfCustodyInfo.set_index('Test Guid'))"
   ]
  },
  {
   "cell_type": "code",
   "execution_count": null,
   "metadata": {},
   "outputs": [],
   "source": [
    "##Step 10: Rename Channels in OriginalDataAll for merge with Line Data, annotate other columns to distinguish them as \"Original\" Columns\n",
    "OriginalDataAll = OriginalDataAll.reset_index().replace({'Green':'Green_470_510',\n",
    "                                                         'Yellow':'Yellow_530_555',\n",
    "                                                         'Red':'Red_625_660',\n",
    "                                                         'Orange':'Orange_585_610'}).set_index(['SampleUId','Channel'])\n",
    "for col in OriginalDataAll.columns:\n",
    "    OriginalDataAll.rename({col:'Original '+col}, axis=1, inplace=True)"
   ]
  },
  {
   "cell_type": "code",
   "execution_count": null,
   "metadata": {},
   "outputs": [],
   "source": [
    "##Step 11: Read LineData from CSV, Merge with OriginalDataAll, and Export to CSV.\n",
    "lineData = pd.read_csv('P:/Users/Aaron/HPV Data Analysis/RPT-8430_CompiledData_Final.csv')#.set_index([\"Sample ID\", 'StartDateTime'],inplace=True)\n",
    "lineData.rename({'SampleID':'Sample ID', 'StartDateTime':'Start Date/Time'}, axis=1, inplace=True)\n",
    "lineData.reset_index(inplace=True)\n",
    "lineData['SampleUId'] = lineData['SampleUId'].str.upper()\n",
    "lineData.set_index(['SampleUId','Channel'],inplace=True)\n",
    "\n",
    "FinalData = lineData.join(OriginalDataAll, rsuffix='_Original')\n",
    "FinalData[~FinalData['Original N500 Serial Number'].isnull()].to_csv('RPT_8430_FinalData_with_OriginalData.csv')"
   ]
  },
  {
   "cell_type": "code",
   "execution_count": null,
   "metadata": {},
   "outputs": [],
   "source": [
    "FinalData.reset_index(inplace=True)\n"
   ]
  },
  {
   "cell_type": "code",
   "execution_count": null,
   "metadata": {},
   "outputs": [],
   "source": [
    "FinalData.set_index(['Channel', 'ProcessingStep'],inplace=True)"
   ]
  },
  {
   "cell_type": "code",
   "execution_count": null,
   "metadata": {},
   "outputs": [],
   "source": [
    "def checkCartridgeNeighbors(data, cartridgeField='CartridgeId', cartridgeLaneField='PcrCartridgeLane', resultField='LocalizedResult'):\n",
    "    \"\"\"\n",
    "    Finds and returns the specified field result associated from the neighboring cartridge lanes (left & right) of each sample included in the DataFrame.\n",
    "    Parameters\n",
    "    ----------\n",
    "    data: pandas.DataFrame\n",
    "        Pandas Dataframe used as input.\n",
    "    cartridgeField: str\n",
    "        Field used to identify the NeuMoDx Cartridge used for processing in data.\n",
    "    cartridgeLaneField: str\n",
    "        Field used to identify the Cartridge Lane used for sample processing in data.\n",
    "    resultField: str\n",
    "        Field value to return from Neighboring Lanes.\n",
    "    \"\"\"\n",
    "\n",
    "    ##Determine Original Index\n",
    "    original_index = data.index.names\n",
    "    \n",
    "\n",
    "    ##Reset Index (to ensure index is always common no matter what input).\n",
    "    data.reset_index(inplace=True)\n",
    "\n",
    "    ##Add \"LeftNeighbor\" & \"RightNeighbor\" Result Columns\n",
    "    data.loc[:, 'LeftNeighbor'+resultField] = np.nan\n",
    "    data.loc[:, 'RightNeighbor'+resultField] = np.nan\n",
    "\n",
    "    for idx in data.index:\n",
    "\n",
    "        ##Get Cartridge Barcode & Lane:\n",
    "        cartridgeid = data.loc[idx, cartridgeField]\n",
    "        lane = data.loc[idx, cartridgeLaneField]\n",
    "        channel = data.loc[idx, 'Channel']\n",
    "\n",
    "\n",
    "        ##Find Left Cartridge Neighbor & Get Result:\n",
    "        leftNeighbor = data.loc[((data[cartridgeField]==cartridgeid)&\n",
    "                                           (data[cartridgeLaneField]==lane-1)&\n",
    "                                           (data['Channel']==channel)),:]\n",
    "        \n",
    "        if len(leftNeighbor)>0:\n",
    "            leftNeighborResult = leftNeighbor[resultField].values[0]\n",
    "        else:\n",
    "            leftNeighborResult = np.nan\n",
    "\n",
    "        ##Find Right Cartridge Neighbor & Get Result:\n",
    "\n",
    "        rightNeighbor = data.loc[((data[cartridgeField]==cartridgeid)&\n",
    "                                           (data[cartridgeLaneField]==lane+1)&\n",
    "                                           (data['Channel']==channel)),:]\n",
    "        \n",
    "        if len(rightNeighbor)>0:\n",
    "            rightNeighborResult = rightNeighbor[resultField].values[0]\n",
    "        else:\n",
    "            rightNeighborResult = np.nan\n",
    "        \n",
    "        ##Fill in LeftNeighbor and RightNeighbor Results into appropriate DataFrame Columns\n",
    "        data.loc[idx, 'LeftNeighbor'+resultField] = leftNeighborResult\n",
    "        data.loc[idx, 'RightNeighbor'+resultField] = rightNeighborResult\n",
    "\n",
    "    data.set_index(original_index, inplace=True)\n",
    "    return data\n",
    "\n",
    "\n",
    "\n",
    "\n",
    "        \n",
    "        \n",
    "    \n",
    "    \n"
   ]
  },
  {
   "cell_type": "code",
   "execution_count": null,
   "metadata": {},
   "outputs": [],
   "source": [
    "YellowRawData = checkCartridgeNeighbors(FinalData.loc[('Yellow_530_555','Raw'),:].sort_values(['Original Pcr Cartridge Barcode', 'Original Pcr Cartridge Lane']), cartridgeField='Original Pcr Cartridge Barcode', cartridgeLaneField='Original Pcr Cartridge Lane')\n"
   ]
  },
  {
   "cell_type": "code",
   "execution_count": null,
   "metadata": {},
   "outputs": [],
   "source": [
    "YellowRawData = checkCartridgeNeighbors(YellowRawData.sort_values(['Original Pcr Cartridge Barcode', 'Original Pcr Cartridge Lane']), cartridgeField='Original Pcr Cartridge Barcode', cartridgeLaneField='Original Pcr Cartridge Lane')\n"
   ]
  },
  {
   "cell_type": "code",
   "execution_count": null,
   "metadata": {},
   "outputs": [],
   "source": [
    "YellowRawData = YellowRawData[~YellowRawData['Original N500 Serial Number'].isnull()]"
   ]
  },
  {
   "cell_type": "code",
   "execution_count": null,
   "metadata": {},
   "outputs": [],
   "source": [
    "YellowRawData[['Original Software Version', 'Original Assay Version', 'Sample ID']].groupby(['Original Software Version', 'Original Assay Version']).count().sort_index()"
   ]
  },
  {
   "cell_type": "code",
   "execution_count": null,
   "metadata": {},
   "outputs": [],
   "source": [
    "YellowRawData[['AssayVersion', 'ReplicateNumber']].groupby(['AssayVersion']).count().sort_index()"
   ]
  },
  {
   "cell_type": "code",
   "execution_count": null,
   "metadata": {},
   "outputs": [],
   "source": [
    "YellowRawData[['NeuMoDxSoftwareVersion', 'AssayVersion']]"
   ]
  }
 ],
 "metadata": {
  "interpreter": {
   "hash": "e0bbf1e97d6db43163191f8ea0bbbdb47391165c40d339da707264de0c074987"
  },
  "kernelspec": {
   "display_name": "Python 3.9.7 ('base')",
   "language": "python",
   "name": "python3"
  },
  "language_info": {
   "codemirror_mode": {
    "name": "ipython",
    "version": 3
   },
   "file_extension": ".py",
   "mimetype": "text/x-python",
   "name": "python",
   "nbconvert_exporter": "python",
   "pygments_lexer": "ipython3",
   "version": "3.9.7"
  },
  "orig_nbformat": 4
 },
 "nbformat": 4,
 "nbformat_minor": 2
}
