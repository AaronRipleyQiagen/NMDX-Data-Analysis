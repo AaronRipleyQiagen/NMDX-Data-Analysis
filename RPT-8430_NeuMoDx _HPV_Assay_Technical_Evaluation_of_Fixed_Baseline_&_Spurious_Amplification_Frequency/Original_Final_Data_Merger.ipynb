{
 "cells": [
  {
   "cell_type": "code",
   "execution_count": 57,
   "metadata": {},
   "outputs": [],
   "source": [
    "#Step 1: Import modules and connect to the database\n",
    "import pandas as pd\n",
    "import numpy as np\n",
    "import pyodbc\n",
    "import warnings\n",
    "warnings.filterwarnings('ignore')\n",
    "\n",
    "from IPython.display import HTML\n",
    "config = dict(server='ABR-RIPLEYA-D1',\n",
    "    port=      1433,\n",
    "    database=  'neumodxRawDataDB',\n",
    "    )\n",
    "\n",
    "conn_str = ('SERVER={server};' +\n",
    "            'Database={database};' +\n",
    "            'TRUSTED_CONNECTION=yes')\n",
    "\n",
    "conn = pyodbc.connect(\n",
    "    r'DRIVER={SQL Server};' +\n",
    "    conn_str.format(**config)\n",
    "    )"
   ]
  },
  {
   "cell_type": "code",
   "execution_count": 58,
   "metadata": {},
   "outputs": [
    {
     "name": "stdout",
     "output_type": "stream",
     "text": [
      "Query: Select * from [dbo].[summary_coc]where  [Environment] like '%HPV_RPT-8430_Original_Data_3%'\n",
      "Length of Raw Data Frame: 19765\n",
      "['23000021' '96000005' 'N000007' 'N000012' '96000007' 'N000009']\n",
      "Length of Filtered Data Frame: 5998\n"
     ]
    }
   ],
   "source": [
    "##Step 2:  Load Consolidated Data from Gen 1.5 DB \n",
    "\n",
    "\n",
    "environment='HPV_RPT-8430_Original_Data_3'\n",
    "\n",
    "def getSQLData_summary_coc(environment):\n",
    "    query = (\"Select * from [dbo].[summary_coc]\"+\n",
    "             \"where  [Environment] like '%\"+environment+\"%'\")\n",
    "    print(\"Query:\", query)\n",
    "    df = pd.read_sql(query, conn)\n",
    "    print(\"Length of Raw Data Frame: \"+ str(len(df)))\n",
    "    \n",
    "    df = df.loc[~df['N500 Serial Number'].isnull()]\n",
    "    print(df['N500 Serial Number'].unique())\n",
    "    df.drop_duplicates(subset=['Sample ID', 'Start Date/Time'],inplace=True)\n",
    "    print(\"Length of Filtered Data Frame: \"+ str(len(df)))\n",
    "    return df\n",
    "\n",
    "\n",
    "\n",
    "\n",
    "OriginalData = getSQLData_summary_coc(environment)\n"
   ]
  },
  {
   "cell_type": "code",
   "execution_count": 59,
   "metadata": {},
   "outputs": [],
   "source": [
    "##Step 3:  Change Connection to NIMS (Gen 2) Database\n",
    "from IPython.display import HTML\n",
    "config = dict(server='ABR-RIPLEYA-L1',\n",
    "    port=      1433,\n",
    "    database=  'NIMS_New',\n",
    "    )\n",
    "\n",
    "conn_str = ('SERVER={server};' +\n",
    "            'Database={database};' +\n",
    "            'TRUSTED_CONNECTION=yes')\n",
    "\n",
    "conn = pyodbc.connect(\n",
    "    r'DRIVER={SQL Server};' +\n",
    "    conn_str.format(**config)\n",
    "    )"
   ]
  },
  {
   "cell_type": "code",
   "execution_count": 60,
   "metadata": {},
   "outputs": [],
   "source": [
    "##Step 4: Get Final Data (1.9.2.6 Data processed with ADF 4.2.1) \n",
    "\n",
    "def get_NIMS_ChainOfCustody(trialid):\n",
    "    query = \"SELECT SampleTrials.SampleUId, Samples.[Sample ID], ChainOfCustodySets.[Start Date/Time] FROM ChainOfCustodySets Left JOIN SampleTrials ON SampleTrials.SampleUId=ChainOfCustodySets.SampleUId AND SampleTrials.TrialId = '\"+trialid+\"' Left JOIN Samples ON ChainOfCustodySets.SampleUId = Samples.UId ;\"\n",
    "    df = pd.read_sql(query, conn)\n",
    "    return df\n",
    "\n",
    "NIMSData = get_NIMS_ChainOfCustody('BC4699B0-DCB0-4ED2-ABCB-17628D7DEC22')"
   ]
  },
  {
   "cell_type": "code",
   "execution_count": 61,
   "metadata": {},
   "outputs": [
    {
     "data": {
      "text/plain": [
       "5391"
      ]
     },
     "execution_count": 61,
     "metadata": {},
     "output_type": "execute_result"
    }
   ],
   "source": [
    "len(NIMSData.set_index(['Sample ID', 'Start Date/Time']).index.unique())"
   ]
  },
  {
   "cell_type": "code",
   "execution_count": 62,
   "metadata": {},
   "outputs": [],
   "source": [
    "##Step 5: Set Index to Shared Properties between Original & NIMS Data\n",
    "NIMSData.set_index(['Sample ID', \"Start Date/Time\"], inplace=True)\n",
    "OriginalData.set_index(['Sample ID', \"Start Date/Time\"], inplace=True)"
   ]
  },
  {
   "cell_type": "code",
   "execution_count": 63,
   "metadata": {},
   "outputs": [],
   "source": [
    "##Step 6: Combined Original Data and NIMS Data so that ChainOfCustodyInfo has SampleUID Column\n",
    "ChainOfCustodyInfo = NIMSData.join(OriginalData)"
   ]
  },
  {
   "cell_type": "code",
   "execution_count": 64,
   "metadata": {},
   "outputs": [],
   "source": [
    "consumables_list = ['Capture Plate Barcode',\n",
    " 'Buffer Barcode',\n",
    " 'Test Strip NeuMoDx Barcode',\n",
    " 'Pcr Cartridge Barcode',\n",
    " 'Release Reagent Barcode',\n",
    " 'Wash Reagent Barcode']\n",
    "\n",
    "for col in consumables_list:\n",
    "    ChainOfCustodyInfo[col.replace('Barcode', 'Lot')] = ChainOfCustodyInfo[col].str[18:24]\n",
    "    ChainOfCustodyInfo[col.replace('Barcode', 'Serial')] = ChainOfCustodyInfo[col].str[27:32]"
   ]
  },
  {
   "cell_type": "code",
   "execution_count": 65,
   "metadata": {},
   "outputs": [],
   "source": [
    "ChainOfCustodyInfo = ChainOfCustodyInfo[['SampleUId', 'Test Guid', 'Assay Version', 'N500 Serial Number', 'PCR Module Serial', 'Pcr Cartridge Lane']+\n",
    "                   [x.replace('Barcode', 'Lot') for x in consumables_list]+\n",
    "                   [x.replace('Barcode', 'Serial') for x in consumables_list]]"
   ]
  },
  {
   "cell_type": "code",
   "execution_count": 66,
   "metadata": {},
   "outputs": [
    {
     "name": "stdout",
     "output_type": "stream",
     "text": [
      "Query: Select * from [dbo].[channel_summary]where  [Environment] like '%HPV_RPT-8430_Original_Data_3%'\n",
      "Length of Raw Data Frame: 76680\n",
      "Length of Filtered Data Frame: 21536\n"
     ]
    }
   ],
   "source": [
    "##Step 7: Get Channel Data for Original Data\n",
    "\n",
    "config = dict(server='ABR-RIPLEYA-D1',\n",
    "    port=      1433,\n",
    "    database=  'neumodxRawDataDB',\n",
    "    )\n",
    "\n",
    "conn_str = ('SERVER={server};' +\n",
    "            'Database={database};' +\n",
    "            'TRUSTED_CONNECTION=yes')\n",
    "\n",
    "conn = pyodbc.connect(\n",
    "    r'DRIVER={SQL Server};' +\n",
    "    conn_str.format(**config)\n",
    "    )\n",
    "\n",
    "def getSQLData_channel_summary(environment, testGuids):\n",
    "    query = (\"Select * from [dbo].[channel_summary]\"+\n",
    "             \"where  [Environment] like '%\"+environment+\"%'\")\n",
    "    print(\"Query:\", query)\n",
    "    df = pd.read_sql(query, conn)\n",
    "    print(\"Length of Raw Data Frame: \"+ str(len(df)))\n",
    "    \n",
    "    df.set_index('Test Guid', inplace=True)\n",
    "    df = df.loc[testGuids,:]\n",
    "    df.reset_index(inplace=True)\n",
    "    df.drop_duplicates(['Test Guid', 'Channel'], inplace=True)\n",
    "    print(\"Length of Filtered Data Frame: \"+ str(len(df)))\n",
    "    df.set_index(['Test Guid', 'Channel'],inplace=True)\n",
    "    return df\n",
    "\n",
    "ChannelDataOriginal = getSQLData_channel_summary(environment, [x for x in ChainOfCustodyInfo['Test Guid'].unique().tolist() if pd.isnull(x)==False])\n",
    "ChannelDataOriginal['Localized Result'] = np.where(ChannelDataOriginal['Localized Result'].isnull(), ChannelDataOriginal['Target Result'], ChannelDataOriginal['Localized Result'])\n",
    "\n",
    "##Step 8: Subset ChannelDataOriginal to include only fields that are relavant to describing the amplification state.\n",
    "ChannelDataOriginal = ChannelDataOriginal[['Localized Result', 'Ct', 'End Point Fluorescence', 'Max Peak Height', 'EPR', 'Baseline First Cycle', 'Baseline Last Cycle', 'Baseline Slope']]\n"
   ]
  },
  {
   "cell_type": "code",
   "execution_count": 67,
   "metadata": {},
   "outputs": [],
   "source": [
    "##Step 9: Merge together ChainOfCustodyInfo with ChannelDataOriginal for one common dataframe to combine with the Line Data.\n",
    "ChainOfCustodyInfo.dropna(subset=['Test Guid'],inplace=True)\n",
    "ChainOfCustodyInfo.drop_duplicates('Test Guid',inplace=True)\n",
    "OriginalDataAll = ChannelDataOriginal.join(ChainOfCustodyInfo.set_index('Test Guid'))"
   ]
  },
  {
   "cell_type": "code",
   "execution_count": 68,
   "metadata": {},
   "outputs": [],
   "source": [
    "##Step 10: Rename Channels in OriginalDataAll for merge with Line Data, annotate other columns to distinguish them as \"Original\" Columns\n",
    "OriginalDataAll = OriginalDataAll.reset_index().replace({'Green':'Green_470_510',\n",
    "                                                         'Yellow':'Yellow_530_555',\n",
    "                                                         'Red':'Red_625_660',\n",
    "                                                         'Orange':'Orange_585_610'}).set_index(['SampleUId','Channel'])\n",
    "for col in OriginalDataAll.columns:\n",
    "    OriginalDataAll.rename({col:'Original '+col}, axis=1, inplace=True)"
   ]
  },
  {
   "cell_type": "code",
   "execution_count": 69,
   "metadata": {},
   "outputs": [],
   "source": [
    "##Step 11: Read LineData from CSV, Merge with OriginalDataAll, and Export to CSV.\n",
    "lineData = pd.read_csv('P:/Users/Aaron/HPV Data Analysis/RPT-8430_CompiledData_Final.csv')#.set_index([\"Sample ID\", 'StartDateTime'],inplace=True)\n",
    "lineData.rename({'SampleID':'Sample ID', 'StartDateTime':'Start Date/Time'}, axis=1, inplace=True)\n",
    "lineData.reset_index(inplace=True)\n",
    "lineData['SampleUId'] = lineData['SampleUId'].str.upper()\n",
    "lineData.set_index(['SampleUId','Channel'],inplace=True)\n",
    "\n",
    "FinalData = lineData.join(OriginalDataAll, rsuffix='_Original')\n",
    "FinalData[~FinalData['Original N500 Serial Number'].isnull()].to_csv('RPT_8430_FinalData_with_OriginalData.csv')"
   ]
  }
 ],
 "metadata": {
  "interpreter": {
   "hash": "e0bbf1e97d6db43163191f8ea0bbbdb47391165c40d339da707264de0c074987"
  },
  "kernelspec": {
   "display_name": "Python 3.9.7 ('base')",
   "language": "python",
   "name": "python3"
  },
  "language_info": {
   "codemirror_mode": {
    "name": "ipython",
    "version": 3
   },
   "file_extension": ".py",
   "mimetype": "text/x-python",
   "name": "python",
   "nbconvert_exporter": "python",
   "pygments_lexer": "ipython3",
   "version": "3.9.7"
  },
  "orig_nbformat": 4
 },
 "nbformat": 4,
 "nbformat_minor": 2
}
